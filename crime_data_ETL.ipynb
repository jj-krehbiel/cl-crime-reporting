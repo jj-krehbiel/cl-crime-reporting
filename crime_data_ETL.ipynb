{
 "cells": [
  {
   "cell_type": "code",
   "execution_count": 28,
   "metadata": {},
   "outputs": [],
   "source": [
    "# Dependencies\n",
    "import os\n",
    "from bs4 import BeautifulSoup as bs\n",
    "import pandas as pd\n",
    "import requests\n",
    "from urllib import request"
   ]
  },
  {
   "cell_type": "code",
   "execution_count": 29,
   "metadata": {},
   "outputs": [],
   "source": [
    "DOMAIN = \"https://www.atlantapd.org/i-want-to/crime-data-downloads\"\n",
    "Path = \"/home/showpublisheddocument/3705/637460445573930000\"\n",
    "URL = \"https://www.atlantapd.org/i-want-to/crime-data-downloads/home/showpublisheddocument/3705/637460445573930000\""
   ]
  },
  {
   "cell_type": "code",
   "execution_count": 30,
   "metadata": {},
   "outputs": [],
   "source": [
    "crime_url = r\"https://www.atlantapd.org/home/showpublisheddocument/4342\""
   ]
  },
  {
   "cell_type": "code",
   "execution_count": 20,
   "metadata": {},
   "outputs": [],
   "source": [
    "#Function to download csv link\n",
    "def download_crime_data(csv_url):\n",
    "    response = request.urlopen(crime_url)\n",
    "    csv=response.read()\n",
    "    csv_str = str(csv)\n",
    "    lines = csv_str.split(\"\\\\n\")\n",
    "    dest_url = r'ATL_crime_data2.csv'\n",
    "    fx = open(dest_url, \"w\")\n",
    "    for line in lines:\n",
    "        fx.write(line + \"\\n\")\n",
    "    fx.close()"
   ]
  },
  {
   "cell_type": "code",
   "execution_count": 21,
   "metadata": {},
   "outputs": [],
   "source": [
    "#Call function\n",
    "download_crime_data(crime_url)"
   ]
  },
  {
   "cell_type": "code",
   "execution_count": 31,
   "metadata": {},
   "outputs": [
    {
     "data": {
      "text/plain": [
       "('ATL.csv', <http.client.HTTPMessage at 0x7f91370c0400>)"
      ]
     },
     "execution_count": 31,
     "metadata": {},
     "output_type": "execute_result"
    }
   ],
   "source": [
    "retrieve(crime_url,'ATL.csv')"
   ]
  },
  {
   "cell_type": "code",
   "execution_count": 32,
   "metadata": {},
   "outputs": [],
   "source": [
    "def download_file(url):\n",
    "    fileOpen = request.urlopen(url)\n",
    "    file_info = fileOpen.read()\n",
    "    file_info_str = str(file_info)\n",
    "    file_lines = file_info_str.split('\\\\n')\n",
    "    newfile = open('file.txt', \"w\")\n",
    "    for info in file_lines:\n",
    "        newfile.write(info + '\\n')\n",
    "    newfile.close()"
   ]
  },
  {
   "cell_type": "code",
   "execution_count": 33,
   "metadata": {},
   "outputs": [],
   "source": [
    "download_file(crime_url)"
   ]
  },
  {
   "cell_type": "code",
   "execution_count": null,
   "metadata": {},
   "outputs": [],
   "source": []
  }
 ],
 "metadata": {
  "kernelspec": {
   "display_name": "Python 3",
   "language": "python",
   "name": "python3"
  },
  "language_info": {
   "codemirror_mode": {
    "name": "ipython",
    "version": 3
   },
   "file_extension": ".py",
   "mimetype": "text/x-python",
   "name": "python",
   "nbconvert_exporter": "python",
   "pygments_lexer": "ipython3",
   "version": "3.8.5"
  }
 },
 "nbformat": 4,
 "nbformat_minor": 4
}
