{
 "cells": [
  {
   "cell_type": "code",
   "execution_count": 1,
   "id": "chubby-beverage",
   "metadata": {},
   "outputs": [],
   "source": [
    "import pandas as pd"
   ]
  },
  {
   "cell_type": "code",
   "execution_count": 8,
   "id": "composed-departure",
   "metadata": {},
   "outputs": [],
   "source": [
    "crime_data1 =\"data/COBRA-2021-9-8.csv\""
   ]
  },
  {
   "cell_type": "code",
   "execution_count": 11,
   "id": "second-victoria",
   "metadata": {},
   "outputs": [
    {
     "data": {
      "text/html": [
       "<div>\n",
       "<style scoped>\n",
       "    .dataframe tbody tr th:only-of-type {\n",
       "        vertical-align: middle;\n",
       "    }\n",
       "\n",
       "    .dataframe tbody tr th {\n",
       "        vertical-align: top;\n",
       "    }\n",
       "\n",
       "    .dataframe thead th {\n",
       "        text-align: right;\n",
       "    }\n",
       "</style>\n",
       "<table border=\"1\" class=\"dataframe\">\n",
       "  <thead>\n",
       "    <tr style=\"text-align: right;\">\n",
       "      <th></th>\n",
       "      <th>offense_id</th>\n",
       "      <th>rpt_date</th>\n",
       "      <th>occur_date</th>\n",
       "      <th>occur_day</th>\n",
       "      <th>occur_day_num</th>\n",
       "      <th>occur_time</th>\n",
       "      <th>poss_date</th>\n",
       "      <th>poss_time</th>\n",
       "      <th>beat</th>\n",
       "      <th>zone</th>\n",
       "      <th>location</th>\n",
       "      <th>ibr_code</th>\n",
       "      <th>UC2_Literal</th>\n",
       "      <th>neighborhood</th>\n",
       "      <th>npu</th>\n",
       "      <th>lat</th>\n",
       "      <th>long</th>\n",
       "    </tr>\n",
       "  </thead>\n",
       "  <tbody>\n",
       "    <tr>\n",
       "      <th>0</th>\n",
       "      <td>212450076</td>\n",
       "      <td>9/2/21</td>\n",
       "      <td>9/2/21</td>\n",
       "      <td>Thursday</td>\n",
       "      <td>5.0</td>\n",
       "      <td>0:56</td>\n",
       "      <td>9/2/21</td>\n",
       "      <td>1:00</td>\n",
       "      <td>309</td>\n",
       "      <td>3</td>\n",
       "      <td>2477 METROPOLITAN PKWY SW\\nATL, GA 30315\\nUNIT...</td>\n",
       "      <td>23C</td>\n",
       "      <td>LARCENY-NON VEHICLE</td>\n",
       "      <td>Perkerson</td>\n",
       "      <td>X</td>\n",
       "      <td>33.687106</td>\n",
       "      <td>-84.408623</td>\n",
       "    </tr>\n",
       "    <tr>\n",
       "      <th>1</th>\n",
       "      <td>212450091</td>\n",
       "      <td>9/2/21</td>\n",
       "      <td>9/2/21</td>\n",
       "      <td>Thursday</td>\n",
       "      <td>5.0</td>\n",
       "      <td>0:15</td>\n",
       "      <td>9/2/21</td>\n",
       "      <td>1:00</td>\n",
       "      <td>601</td>\n",
       "      <td>6</td>\n",
       "      <td>798 SAINT CHARLES AVE NE\\nATLANTA, GA 30306\\nU...</td>\n",
       "      <td>23F</td>\n",
       "      <td>LARCENY-FROM VEHICLE</td>\n",
       "      <td>Virginia Highland</td>\n",
       "      <td>F</td>\n",
       "      <td>33.775779</td>\n",
       "      <td>-84.361153</td>\n",
       "    </tr>\n",
       "    <tr>\n",
       "      <th>2</th>\n",
       "      <td>212450109</td>\n",
       "      <td>9/2/21</td>\n",
       "      <td>9/2/21</td>\n",
       "      <td>Thursday</td>\n",
       "      <td>5.0</td>\n",
       "      <td>1:18</td>\n",
       "      <td>9/2/21</td>\n",
       "      <td>2:00</td>\n",
       "      <td>207</td>\n",
       "      <td>2</td>\n",
       "      <td>1700 NORTHSIDE DR NW\\nATL, GA 30318\\nUNITED ST...</td>\n",
       "      <td>240</td>\n",
       "      <td>AUTO THEFT</td>\n",
       "      <td>Berkeley Park</td>\n",
       "      <td>D</td>\n",
       "      <td>33.800766</td>\n",
       "      <td>-84.408690</td>\n",
       "    </tr>\n",
       "    <tr>\n",
       "      <th>3</th>\n",
       "      <td>212450353</td>\n",
       "      <td>9/2/21</td>\n",
       "      <td>9/2/21</td>\n",
       "      <td>Thursday</td>\n",
       "      <td>5.0</td>\n",
       "      <td>4:19</td>\n",
       "      <td>9/2/21</td>\n",
       "      <td>4:30</td>\n",
       "      <td>411</td>\n",
       "      <td>4</td>\n",
       "      <td>3030 HEADLAND DR SW\\nATLANTA, GA 30311\\nUNITED...</td>\n",
       "      <td>23F</td>\n",
       "      <td>LARCENY-FROM VEHICLE</td>\n",
       "      <td>Greenbriar</td>\n",
       "      <td>R</td>\n",
       "      <td>33.687056</td>\n",
       "      <td>-84.487601</td>\n",
       "    </tr>\n",
       "    <tr>\n",
       "      <th>4</th>\n",
       "      <td>212450388</td>\n",
       "      <td>9/2/21</td>\n",
       "      <td>9/2/21</td>\n",
       "      <td>Thursday</td>\n",
       "      <td>5.0</td>\n",
       "      <td>4:30</td>\n",
       "      <td>9/2/21</td>\n",
       "      <td>5:00</td>\n",
       "      <td>401</td>\n",
       "      <td>4</td>\n",
       "      <td>854 OAK ST SW\\nATL, GA 30310\\nUNITED STATES</td>\n",
       "      <td>23F</td>\n",
       "      <td>LARCENY-FROM VEHICLE</td>\n",
       "      <td>West End</td>\n",
       "      <td>T</td>\n",
       "      <td>33.740539</td>\n",
       "      <td>-84.416820</td>\n",
       "    </tr>\n",
       "  </tbody>\n",
       "</table>\n",
       "</div>"
      ],
      "text/plain": [
       "   offense_id rpt_date occur_date occur_day  occur_day_num occur_time  \\\n",
       "0   212450076   9/2/21     9/2/21  Thursday            5.0       0:56   \n",
       "1   212450091   9/2/21     9/2/21  Thursday            5.0       0:15   \n",
       "2   212450109   9/2/21     9/2/21  Thursday            5.0       1:18   \n",
       "3   212450353   9/2/21     9/2/21  Thursday            5.0       4:19   \n",
       "4   212450388   9/2/21     9/2/21  Thursday            5.0       4:30   \n",
       "\n",
       "  poss_date poss_time  beat  zone  \\\n",
       "0    9/2/21      1:00   309     3   \n",
       "1    9/2/21      1:00   601     6   \n",
       "2    9/2/21      2:00   207     2   \n",
       "3    9/2/21      4:30   411     4   \n",
       "4    9/2/21      5:00   401     4   \n",
       "\n",
       "                                            location ibr_code  \\\n",
       "0  2477 METROPOLITAN PKWY SW\\nATL, GA 30315\\nUNIT...      23C   \n",
       "1  798 SAINT CHARLES AVE NE\\nATLANTA, GA 30306\\nU...      23F   \n",
       "2  1700 NORTHSIDE DR NW\\nATL, GA 30318\\nUNITED ST...      240   \n",
       "3  3030 HEADLAND DR SW\\nATLANTA, GA 30311\\nUNITED...      23F   \n",
       "4        854 OAK ST SW\\nATL, GA 30310\\nUNITED STATES      23F   \n",
       "\n",
       "            UC2_Literal       neighborhood npu        lat       long  \n",
       "0   LARCENY-NON VEHICLE          Perkerson   X  33.687106 -84.408623  \n",
       "1  LARCENY-FROM VEHICLE  Virginia Highland   F  33.775779 -84.361153  \n",
       "2            AUTO THEFT      Berkeley Park   D  33.800766 -84.408690  \n",
       "3  LARCENY-FROM VEHICLE         Greenbriar   R  33.687056 -84.487601  \n",
       "4  LARCENY-FROM VEHICLE           West End   T  33.740539 -84.416820  "
      ]
     },
     "execution_count": 11,
     "metadata": {},
     "output_type": "execute_result"
    }
   ],
   "source": [
    "crime_df1 = pd.read_csv(crime_data1, encoding=\"ISO-8859-1\")\n",
    "crime_df1.head()"
   ]
  },
  {
   "cell_type": "code",
   "execution_count": 12,
   "id": "korean-representative",
   "metadata": {},
   "outputs": [
    {
     "data": {
      "text/plain": [
       "offense_id       15665\n",
       "rpt_date         15665\n",
       "occur_date       15657\n",
       "occur_day        15657\n",
       "occur_day_num    15657\n",
       "occur_time       15657\n",
       "poss_date        15340\n",
       "poss_time        15340\n",
       "beat             15665\n",
       "zone             15665\n",
       "location         15665\n",
       "ibr_code         15665\n",
       "UC2_Literal      15665\n",
       "neighborhood     14928\n",
       "npu              15466\n",
       "lat              15665\n",
       "long             15665\n",
       "dtype: int64"
      ]
     },
     "execution_count": 12,
     "metadata": {},
     "output_type": "execute_result"
    }
   ],
   "source": [
    "crime_df1.count()"
   ]
  },
  {
   "cell_type": "code",
   "execution_count": 17,
   "id": "destroyed-marker",
   "metadata": {},
   "outputs": [
    {
     "data": {
      "text/plain": [
       "offense_id         int64\n",
       "rpt_date          object\n",
       "occur_date        object\n",
       "occur_day         object\n",
       "occur_day_num    float64\n",
       "occur_time        object\n",
       "poss_date         object\n",
       "poss_time         object\n",
       "beat               int64\n",
       "zone               int64\n",
       "location          object\n",
       "ibr_code          object\n",
       "UC2_Literal       object\n",
       "neighborhood      object\n",
       "npu               object\n",
       "lat              float64\n",
       "long             float64\n",
       "dtype: object"
      ]
     },
     "execution_count": 17,
     "metadata": {},
     "output_type": "execute_result"
    }
   ],
   "source": [
    "crime_df1.dtypes\n",
    "#convert rpt_data, occur_date, occur_time, poss_date, poss_time to datetime64\n",
    "#convert offense_id, beat, and zone to objects"
   ]
  },
  {
   "cell_type": "code",
   "execution_count": 18,
   "id": "greatest-vessel",
   "metadata": {},
   "outputs": [
    {
     "data": {
      "text/plain": [
       "LARCENY-FROM VEHICLE    6413\n",
       "LARCENY-NON VEHICLE     3511\n",
       "AUTO THEFT              2339\n",
       "AGG ASSAULT             1726\n",
       "BURGLARY                 998\n",
       "ROBBERY                  577\n",
       "HOMICIDE                 101\n",
       "Name: UC2_Literal, dtype: int64"
      ]
     },
     "execution_count": 18,
     "metadata": {},
     "output_type": "execute_result"
    }
   ],
   "source": [
    "#overview of UC2_Literal\n",
    "crime_df1['UC2_Literal'].value_counts()\n",
    "#odd that there are no sex or drug offenses. What's going on?"
   ]
  },
  {
   "cell_type": "code",
   "execution_count": 19,
   "id": "fresh-cement",
   "metadata": {},
   "outputs": [
    {
     "data": {
      "text/plain": [
       "23F    6107\n",
       "240    2339\n",
       "23H    2028\n",
       "13A    1726\n",
       "220     998\n",
       "23C     921\n",
       "120     577\n",
       "23D     494\n",
       "23G     306\n",
       "09A      96\n",
       "23B      42\n",
       "23E      16\n",
       "23A      10\n",
       "09B       5\n",
       "Name: ibr_code, dtype: int64"
      ]
     },
     "execution_count": 19,
     "metadata": {},
     "output_type": "execute_result"
    }
   ],
   "source": [
    "crime_df1['ibr_code'].value_counts()\n",
    "#matching values for codes present: Theft from Motor Vehicle, Motor Vehicle Theft, All Other Larceny, Aggravated Assault, 220?, Shoplifting, Robbery, Theft from Building, Theft of Mortor Vehicle Parts or Accessories, Murder and Non-Negligent Manslaughter, Purse-snatching, Theft from Coin-Operated Machine or Device, Pocket-picking, Negligent Manslaughter"
   ]
  },
  {
   "cell_type": "code",
   "execution_count": null,
   "id": "resident-visibility",
   "metadata": {},
   "outputs": [],
   "source": []
  }
 ],
 "metadata": {
  "kernelspec": {
   "display_name": "Python 3",
   "language": "python",
   "name": "python3"
  },
  "language_info": {
   "codemirror_mode": {
    "name": "ipython",
    "version": 3
   },
   "file_extension": ".py",
   "mimetype": "text/x-python",
   "name": "python",
   "nbconvert_exporter": "python",
   "pygments_lexer": "ipython3",
   "version": "3.9.1"
  }
 },
 "nbformat": 4,
 "nbformat_minor": 5
}
